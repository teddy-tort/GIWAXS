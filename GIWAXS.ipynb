{
 "cells": [
  {
   "cell_type": "code",
   "execution_count": 1,
   "id": "6949af90-c0d8-405c-8184-140fd3218413",
   "metadata": {},
   "outputs": [],
   "source": [
    "import os\n",
    "import numpy as np\n",
    "import tkinter as tk\n",
    "from tkinter import filedialog\n",
    "\n",
    "#import pyqtgraph as pg\n",
    "#import fabio\n",
    "\n",
    "from dezinger import remove_zingers2\n",
    "from flip_tifs import flip_tif\n",
    "from plotting import view_tif\n",
    "\n",
    "default_data_path = f'{os.getcwd()}{os.sep}raw_data'\n",
    "cal_file = f'{default_data_path}{os.sep}SiBe_on_GIWAXmount_CenteredInBeam_flip.tif'\n",
    "filename = f'{default_data_path}{os.sep}TT5mm-01-benzeneTPP_60min_flip.tif'\n",
    "%gui qt"
   ]
  },
  {
   "cell_type": "markdown",
   "id": "c2b054aa-40a8-4e75-9bf4-9d02baf92a33",
   "metadata": {},
   "source": [
    "# CREATE CALIBRATION"
   ]
  },
  {
   "cell_type": "markdown",
   "id": "185de49b-2cb2-4e65-930e-1b8f80880b7f",
   "metadata": {},
   "source": [
    "### Find calibration image and flip it if needed"
   ]
  },
  {
   "cell_type": "code",
   "execution_count": 7,
   "id": "377832e8-5788-4c6c-97c7-acd50dab0467",
   "metadata": {},
   "outputs": [
    {
     "name": "stdout",
     "output_type": "stream",
     "text": [
      "/home/etortoric/Documents/GitHub/GIWAXS/raw_data/TT5mm-01-benzeneTPP_60min_flip.tif\n"
     ]
    }
   ],
   "source": [
    "\"\"\"Select file using GUI prompt (can uncomment filename above and skip)\"\"\"\n",
    "# filename = '/home/etortoric/Documents/GitHub/GIWAXS/raw_data/TT5mm-01-benzeneTPP_60min_flip-dz.tif' \n",
    "root = tk.Tk()\n",
    "root.withdraw()\n",
    "root.update()\n",
    "cal_file = filedialog.askopenfilename(initialdir=default_data_path, title='Select Files to Flip', filetypes=(('TIFFs', '*.tif',), ('all', '*.*')))\n",
    "root.destroy()\n",
    "print(filename)\n",
    "\n",
    "\"\"\"If in the unflipped folder, we'll need to flip it\"\"\"\n",
    "if f'{os.sep}unflipped{os.sep}' in filename:\n",
    "    print('Flipping the image for pyFAI-calib2')\n",
    "    # takes tif at 'filename' and rotates 180degrees and then saves in the folder 'save_path'\n",
    "    # returns new filename of the flipped image\n",
    "    cal_file = flip_tif(filename=cal_file, save_path=default_data_path)\n",
    "\n",
    "# view_tif(cal_file)"
   ]
  },
  {
   "cell_type": "markdown",
   "id": "b263f435-c7b3-40c3-a235-ec9e38c4be47",
   "metadata": {},
   "source": [
    "### Remove Zingers from calibration file"
   ]
  },
  {
   "cell_type": "code",
   "execution_count": null,
   "id": "70d12c0c-6e11-4c60-9e5d-4661ca3e231b",
   "metadata": {},
   "outputs": [],
   "source": []
  },
  {
   "cell_type": "code",
   "execution_count": null,
   "id": "2cc4746b-52b2-45f0-98bf-de794833abff",
   "metadata": {},
   "outputs": [],
   "source": [
    "os.system('pyFAI-calib2')"
   ]
  },
  {
   "cell_type": "code",
   "execution_count": null,
   "id": "c8b3a64e-0752-4751-bfec-7fab15ffe1fc",
   "metadata": {},
   "outputs": [],
   "source": [
    "\"\"\"Select file using GUI prompt (can uncomment filename above and skip)\"\"\"\n",
    "# filename = '/home/etortoric/Documents/GitHub/GIWAXS/raw_data/TT5mm-01-benzeneTPP_60min_flip-dz.tif' \n",
    "root = tk.Tk()\n",
    "root.withdraw()\n",
    "root.update()\n",
    "filename = filedialog.askopenfilename(initialdir=default_data_path, title='Select Files to Flip', filetypes=(('TIFFs', '*.tif',), ('all', '*.*')))\n",
    "root.destroy()\n",
    "print(filename)\n",
    "\n",
    "\"\"\"If in the unflipped folder, we'll need to flip it\"\"\"\n",
    "if f'{os.sep}unflipped{os.sep}' in filename:\n",
    "    print('Flipping the image for pyFAI-calib2')\n",
    "    # takes tif at 'filename' and rotates 180degrees and then saves in the folder 'save_path'\n",
    "    # returns new filename of the flipped image\n",
    "    filename = flip_tif(filename=filename, save_path=default_data_path) "
   ]
  }
 ],
 "metadata": {
  "kernelspec": {
   "display_name": "Python 3 (ipykernel)",
   "language": "python",
   "name": "python3"
  },
  "language_info": {
   "codemirror_mode": {
    "name": "ipython",
    "version": 3
   },
   "file_extension": ".py",
   "mimetype": "text/x-python",
   "name": "python",
   "nbconvert_exporter": "python",
   "pygments_lexer": "ipython3",
   "version": "3.9.7"
  }
 },
 "nbformat": 4,
 "nbformat_minor": 5
}
