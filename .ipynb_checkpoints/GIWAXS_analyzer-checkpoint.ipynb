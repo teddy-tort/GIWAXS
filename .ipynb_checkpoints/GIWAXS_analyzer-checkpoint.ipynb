{
 "cells": [
  {
   "cell_type": "markdown",
   "id": "f9d45bc2-c468-47de-b443-5d377bbde51b",
   "metadata": {},
   "source": [
    "# CREATE CALIBRATION"
   ]
  },
  {
   "cell_type": "code",
   "execution_count": null,
   "id": "b63acfe2-969d-455b-838d-e5bbd2fa674a",
   "metadata": {},
   "outputs": [],
   "source": [
    "import os\n",
    "import numpy as np\n",
    "import tkinter as tk\n",
    "from tkinter import filedialog\n",
    "import image_handler as tif\n",
    "\n",
    "\n",
    "default_data_path = f'{os.getcwd()}{os.sep}raw_data'\n",
    "poni = f'{os.getcwd()}{os.sep}calibration{os.sep}'\n",
    "# filename = f'{default_data_path}{os.sep}TT5mm-01-benzeneTPP_60min_flip.tif'\n",
    "\n",
    "\n",
    "\"\"\"Inputs\"\"\"\n",
    "\n",
    "\"\"\"End Inputs\"\"\"\n",
    "\n",
    "\n",
    "%gui qt"
   ]
  },
  {
   "cell_type": "markdown",
   "id": "185de49b-2cb2-4e65-930e-1b8f80880b7f",
   "metadata": {},
   "source": [
    "### Find image and flip it if needed"
   ]
  },
  {
   "cell_type": "code",
   "execution_count": 2,
   "id": "377832e8-5788-4c6c-97c7-acd50dab0467",
   "metadata": {},
   "outputs": [
    {
     "name": "stdout",
     "output_type": "stream",
     "text": [
      "Using: /home/etortoric/Documents/GitHub/GIWAXS/raw_data/SiBe_on_GIWAXmount_CenteredInBeam_flip.tif\n",
      "    as calibration image\n",
      "Flipped image location is\n",
      "    /home/etortoric/Documents/GitHub/GIWAXS/raw_data/SiBe_on_GIWAXmount_CenteredInBeam_flip.tif\n",
      "The calibration image is 1102 x 3070 pixels\n"
     ]
    }
   ],
   "source": [
    "\"\"\"Select file using GUI prompt (can uncomment filename above and skip)\"\"\"\n",
    "# filename = '/home/etortoric/Documents/GitHub/GIWAXS/raw_data/TT5mm-01-benzeneTPP_60min_flip-dz.tif' \n",
    "root = tk.Tk()\n",
    "root.withdraw()\n",
    "root.update()\n",
    "cal_file = filedialog.askopenfilename(initialdir=default_data_path, title='Select Files to Flip', filetypes=(('TIFFs', '*.tif',), ('all', '*.*')))\n",
    "root.destroy()\n",
    "print(f'Using: {filename}\\n    as calibration image')\n",
    "\n",
    "\"\"\"If in the unflipped folder, we'll need to flip it\"\"\"\n",
    "if f'{os.sep}unflipped{os.sep}' in filename.replace('/', os.sep):\n",
    "    print('Flipping the image for pyFAI-calib2')\n",
    "    # takes tif at 'filename' and rotates 180degrees and then saves in the folder 'save_path'\n",
    "    # returns new filename of the flipped image\n",
    "    cal_file = tif.flip(filename=filename, save_path=default_data_path)\n",
    "\n",
    "print(f'Flipped image location is\\n    {filename}')\n",
    "r, c = tif.size(filename)\n",
    "print(f'The calibration image is {r} x {c} pixels')\n",
    "# tif.view_tif(cal_file)"
   ]
  },
  {
   "cell_type": "markdown",
   "id": "dd8c9686-c460-497e-953b-6c3e9157bbdc",
   "metadata": {},
   "source": [
    "### Run calibration GUI"
   ]
  },
  {
   "cell_type": "code",
   "execution_count": null,
   "id": "2cc4746b-52b2-45f0-98bf-de794833abff",
   "metadata": {},
   "outputs": [],
   "source": [
    "\"\"\"Can skip this if you do not wish to apply dezingering\"\"\"\n",
    "\n",
    "apply_dezinger = 3       #  this many times\n",
    "cutoff = 1.2             #  relative cutoff for (smoothed-original)/smoothed. cuts off below -cutoff and above cutoff * 2\n",
    "smoothing = 3            #  the standard deviation used in the gaussian smoothing. Larger the smoother\n",
    "\n",
    "cal_file = remove_zingers_from_file(cal_file, cutoff, smoothing, apply_dezinger)\n",
    "\n",
    "# tif.view(cal_file)"
   ]
  },
  {
   "cell_type": "code",
   "execution_count": null,
   "id": "c8b3a64e-0752-4751-bfec-7fab15ffe1fc",
   "metadata": {},
   "outputs": [],
   "source": [
    "\"\"\"Select file using GUI prompt (can uncomment filename above and skip)\"\"\"\n",
    "# filename = '/home/etortoric/Documents/GitHub/GIWAXS/raw_data/TT5mm-01-benzeneTPP_60min_flip-dz.tif' \n",
    "root = tk.Tk()\n",
    "root.withdraw()\n",
    "root.update()\n",
    "filename = filedialog.askopenfilename(initialdir=default_data_path, title='Select Files to Flip', filetypes=(('TIFFs', '*.tif',), ('all', '*.*')))\n",
    "root.destroy()\n",
    "print(filename)\n",
    "\n",
    "\"\"\"If in the unflipped folder, we'll need to flip it\"\"\"\n",
    "if f'{os.sep}unflipped{os.sep}' in filename:\n",
    "    print('Flipping the image for pyFAI-calib2')\n",
    "    # takes tif at 'filename' and rotates 180degrees and then saves in the folder 'save_path'\n",
    "    # returns new filename of the flipped image\n",
    "    filename = flip_tif(filename=filename, save_path=default_data_path) "
   ]
  }
 ],
 "metadata": {
  "kernelspec": {
   "display_name": "Python 3 (ipykernel)",
   "language": "python",
   "name": "python3"
  },
  "language_info": {
   "codemirror_mode": {
    "name": "ipython",
    "version": 3
   },
   "file_extension": ".py",
   "mimetype": "text/x-python",
   "name": "python",
   "nbconvert_exporter": "python",
   "pygments_lexer": "ipython3",
   "version": "3.9.7"
  }
 },
 "nbformat": 4,
 "nbformat_minor": 5
}
