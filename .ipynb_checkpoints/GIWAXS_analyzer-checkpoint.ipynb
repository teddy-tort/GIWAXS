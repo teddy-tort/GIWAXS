{
 "cells": [
  {
   "cell_type": "markdown",
   "id": "f9d45bc2-c468-47de-b443-5d377bbde51b",
   "metadata": {},
   "source": [
    "# Analyze Data"
   ]
  },
  {
   "cell_type": "code",
   "execution_count": null,
   "id": "b63acfe2-969d-455b-838d-e5bbd2fa674a",
   "metadata": {},
   "outputs": [],
   "source": [
    "import os\n",
    "import numpy as np\n",
    "import pygix\n",
    "import tkinter as tk\n",
    "from tkinter import filedialog\n",
    "import image_handler as tif\n",
    "from dezinger import remove_zingers_from_file\n",
    "\n",
    "\n",
    "if os.name == 'nt':\n",
    "    win = True\n",
    "else:\n",
    "    win = False\n",
    "\n",
    "\n",
    "default_data_path = f'{os.getcwd()}{os.sep}raw_data'\n",
    "poni = f'{os.getcwd()}{os.sep}calibration{os.sep}'\n",
    "filename = f'{default_data_path}{os.sep}TT5mm-01-benzeneTPP_60min_flip.tif'\n",
    "\n",
    "\n",
    "\"\"\"Inputs\"\"\"\n",
    "dezinger_steps = 0\n",
    "dezing_cutoff = 1.2\n",
    "dezing_smooth = 3\n",
    "\n",
    "\"\"\"End Inputs\"\"\"\n",
    "\n",
    "\n",
    "%gui qt"
   ]
  },
  {
   "cell_type": "markdown",
   "id": "185de49b-2cb2-4e65-930e-1b8f80880b7f",
   "metadata": {},
   "source": [
    "### Find image with GUI and flip it if needed"
   ]
  },
  {
   "cell_type": "markdown",
   "id": "40ba92be-05a6-4456-943d-e7db7f8002fb",
   "metadata": {},
   "source": [
    "##### Can run this to use GUI to find file, otherwise, can type it in as 'filename' above"
   ]
  },
  {
   "cell_type": "code",
   "execution_count": 2,
   "id": "377832e8-5788-4c6c-97c7-acd50dab0467",
   "metadata": {},
   "outputs": [
    {
     "name": "stdout",
     "output_type": "stream",
     "text": [
      "Using: /home/etortoric/Documents/GitHub/GIWAXS/raw_data/SiBe_on_GIWAXmount_CenteredInBeam_flip.tif\n",
      "    as calibration image\n",
      "Flipped image location is\n",
      "    /home/etortoric/Documents/GitHub/GIWAXS/raw_data/SiBe_on_GIWAXmount_CenteredInBeam_flip.tif\n",
      "The calibration image is 1102 x 3070 pixels\n"
     ]
    }
   ],
   "source": [
    "\"\"\"Select file using GUI prompt (can uncomment filename above and skip)\"\"\"\n",
    "root = tk.Tk()\n",
    "if not win:\n",
    "    root.withdraw()\n",
    "    root.update()\n",
    "filename = filedialog.askopenfilename(initialdir=default_data_path, title='Select TIFF for analysis',\n",
    "                                      filetypes=(('TIFFs', '*.tif',), ('all', '*.*')))\n",
    "root.destroy()\n",
    "print(f'Using: {filename}\\n    as calibration image')\n",
    "\n",
    "\"\"\"If in the unflipped folder, we'll need to flip it\"\"\"\n",
    "if f'{os.sep}unflipped{os.sep}' in filename.replace('/', os.sep):\n",
    "    print('Flipping the image for pyFAI-calib2')\n",
    "    # takes tif at 'filename' and rotates 180degrees and then saves in the folder 'save_path'\n",
    "    # returns new filename of the flipped image\n",
    "    filename = tif.flip(filename=filename, save_path=default_data_path)\n",
    "\n",
    "print(f'Flipped image location is\\n    {filename}')\n",
    "r, c = tif.size(filename)\n",
    "print(f'The calibration image is {r} x {c} pixels')\n",
    "# tif.view_tif(filename)\n"
   ]
  },
  {
   "cell_type": "markdown",
   "id": "9254370d-2caf-4389-8f3d-ca8ffa438c19",
   "metadata": {},
   "source": [
    "### Find Poni file (for calibration) with GUI if needed"
   ]
  },
  {
   "cell_type": "markdown",
   "id": "71857498-485c-4d5a-9ddf-11d1b0e1e868",
   "metadata": {},
   "source": [
    "##### Otherwise you can just define it manually in the first cell."
   ]
  },
  {
   "cell_type": "code",
   "execution_count": 1,
   "id": "0488270d-9259-4106-b793-d6ea45e43687",
   "metadata": {},
   "outputs": [
    {
     "ename": "NameError",
     "evalue": "name 'tk' is not defined",
     "output_type": "error",
     "traceback": [
      "\u001b[1;31m---------------------------------------------------------------------------\u001b[0m",
      "\u001b[1;31mNameError\u001b[0m                                 Traceback (most recent call last)",
      "\u001b[1;32m~\\AppData\\Local\\Temp/ipykernel_20908/2012711127.py\u001b[0m in \u001b[0;36m<module>\u001b[1;34m\u001b[0m\n\u001b[0;32m      1\u001b[0m \u001b[1;34m\"\"\"Select file using GUI prompt (can uncomment filename above and skip)\"\"\"\u001b[0m\u001b[1;33m\u001b[0m\u001b[1;33m\u001b[0m\u001b[0m\n\u001b[0;32m      2\u001b[0m \u001b[1;31m# filename = '/home/etortoric/Documents/GitHub/GIWAXS/raw_data/TT5mm-01-benzeneTPP_60min_flip-dz.tif'\u001b[0m\u001b[1;33m\u001b[0m\u001b[1;33m\u001b[0m\u001b[0m\n\u001b[1;32m----> 3\u001b[1;33m \u001b[0mroot\u001b[0m \u001b[1;33m=\u001b[0m \u001b[0mtk\u001b[0m\u001b[1;33m.\u001b[0m\u001b[0mTk\u001b[0m\u001b[1;33m(\u001b[0m\u001b[1;33m)\u001b[0m\u001b[1;33m\u001b[0m\u001b[1;33m\u001b[0m\u001b[0m\n\u001b[0m\u001b[0;32m      4\u001b[0m \u001b[1;32mif\u001b[0m \u001b[1;32mnot\u001b[0m \u001b[0mwin\u001b[0m\u001b[1;33m:\u001b[0m\u001b[1;33m\u001b[0m\u001b[1;33m\u001b[0m\u001b[0m\n\u001b[0;32m      5\u001b[0m     \u001b[0mroot\u001b[0m\u001b[1;33m.\u001b[0m\u001b[0mwithdraw\u001b[0m\u001b[1;33m(\u001b[0m\u001b[1;33m)\u001b[0m\u001b[1;33m\u001b[0m\u001b[1;33m\u001b[0m\u001b[0m\n",
      "\u001b[1;31mNameError\u001b[0m: name 'tk' is not defined"
     ]
    }
   ],
   "source": [
    "\"\"\"Select file using GUI prompt (can uncomment filename above and skip)\"\"\"\n",
    "root = tk.Tk()\n",
    "if not win:\n",
    "    root.withdraw()\n",
    "    root.update()\n",
    "poni = filedialog.askopenfilename(initialdir=f'{os.getcwd()}{os.sep}calibration', title='Select poni file',\n",
    "                                  filetypes=(('PONI', '*.poni',), ('all', '*.*')))\n",
    "root.destroy()\n",
    "print(f'Using: {poni}\\n    to calibrate analysis')"
   ]
  },
  {
   "cell_type": "markdown",
   "id": "5036a047-2151-448e-8b1f-91553b75d48f",
   "metadata": {},
   "source": [
    "### Dezingering"
   ]
  },
  {
   "cell_type": "code",
   "execution_count": null,
   "id": "70048ca0-d145-4ba4-8a31-d7ab012fdc6b",
   "metadata": {},
   "outputs": [],
   "source": [
    "if dezinger_steps:\n",
    "    filename = remove_zingers_from_file(filename, dezing_cutoff, dezing_smooth, dezinger_steps)\n",
    "    # tif.view(filename)"
   ]
  },
  {
   "cell_type": "markdown",
   "id": "d3240f70-954d-4c94-9229-124adbe05d21",
   "metadata": {},
   "source": [
    "### Load calibration and data with pygix"
   ]
  },
  {
   "cell_type": "code",
   "execution_count": null,
   "id": "c8b3a64e-0752-4751-bfec-7fab15ffe1fc",
   "metadata": {},
   "outputs": [],
   "source": [
    "pg = pygix.Transform()\n",
    "pg.load(poni)\n",
    "\n",
    "pg.sample_orientation = "
   ]
  }
 ],
 "metadata": {
  "kernelspec": {
   "display_name": "Python 3 (ipykernel)",
   "language": "python",
   "name": "python3"
  },
  "language_info": {
   "codemirror_mode": {
    "name": "ipython",
    "version": 3
   },
   "file_extension": ".py",
   "mimetype": "text/x-python",
   "name": "python",
   "nbconvert_exporter": "python",
   "pygments_lexer": "ipython3",
   "version": "3.9.7"
  }
 },
 "nbformat": 4,
 "nbformat_minor": 5
}
