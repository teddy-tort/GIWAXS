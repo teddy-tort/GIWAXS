{
 "cells": [
  {
   "cell_type": "code",
   "execution_count": 2,
   "id": "097ae836-293f-4aec-b2a7-60746d004fea",
   "metadata": {},
   "outputs": [
    {
     "name": "stderr",
     "output_type": "stream",
     "text": [
      "INFO:numexpr.utils:NumExpr defaulting to 4 threads.\n",
      "WARNING:silx.DEPRECATION:module /home/etortoric/anaconda3/envs/giwaxs/lib/python3.9/site-packages/silx/gui/plot/matplotlib/__init__.py is deprecated since silx version 0.14.0. Use 'silx.gui.utils.matplotlib' instead.\n",
      "  File \"/home/etortoric/anaconda3/envs/giwaxs/lib/python3.9/site-packages/silx/gui/plot/matplotlib/__init__.py\", line 32, in <module>\n",
      "    deprecated_warning(type_='module',\n",
      "WARNING:silx.opencl.common:The module pyOpenCL has been imported but can't be used here\n",
      "INFO:pyFAI.method_registry:Degrading method from Method(dim=1, split='pseudo', algo='histogram', impl='*', target=None) -> Method(dim=1, split='bbox', algo='histogram', impl='*', target=None)\n",
      "INFO:pyFAI.method_registry:Degrading method from Method(dim=2, split='full', algo='histogram', impl='*', target=None) -> Method(dim=2, split='pseudo', algo='histogram', impl='*', target=None)\n"
     ]
    },
    {
     "data": {
      "text/plain": [
       "0"
      ]
     },
     "execution_count": 2,
     "metadata": {},
     "output_type": "execute_result"
    }
   ],
   "source": [
    "import os\n",
    "\n",
    "os.system('pyFAI-calib2')"
   ]
  },
  {
   "cell_type": "code",
   "execution_count": null,
   "id": "9d0e6b50-539b-4de8-8727-d057f0fa1017",
   "metadata": {},
   "outputs": [],
   "source": []
  }
 ],
 "metadata": {
  "kernelspec": {
   "display_name": "Python 3 (ipykernel)",
   "language": "python",
   "name": "python3"
  },
  "language_info": {
   "codemirror_mode": {
    "name": "ipython",
    "version": 3
   },
   "file_extension": ".py",
   "mimetype": "text/x-python",
   "name": "python",
   "nbconvert_exporter": "python",
   "pygments_lexer": "ipython3",
   "version": "3.9.7"
  }
 },
 "nbformat": 4,
 "nbformat_minor": 5
}
